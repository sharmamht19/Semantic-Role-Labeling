{
 "cells": [
  {
   "cell_type": "code",
   "execution_count": 1,
   "metadata": {
    "id": "5rqXv0_2U2LH"
   },
   "outputs": [],
   "source": [
    "import os\n",
    "import numpy as np\n",
    "import pandas as pd"
   ]
  },
  {
   "cell_type": "code",
   "execution_count": 2,
   "metadata": {
    "colab": {
     "base_uri": "https://localhost:8080/"
    },
    "id": "hhK8Z7DaYqlD",
    "outputId": "e8a4a61c-0f19-40fa-9400-749798a1f74f"
   },
   "outputs": [
    {
     "name": "stdout",
     "output_type": "stream",
     "text": [
      "Mounted at /content/drive\n"
     ]
    }
   ],
   "source": [
    "from google.colab import drive\n",
    "drive.mount('/content/drive', force_remount=True)"
   ]
  },
  {
   "cell_type": "code",
   "execution_count": 3,
   "metadata": {
    "id": "UDve7MhOZibR"
   },
   "outputs": [],
   "source": [
    "project_path = \"/content/drive/MyDrive/Colab/SRL/\""
   ]
  },
  {
   "cell_type": "code",
   "execution_count": 4,
   "metadata": {
    "colab": {
     "base_uri": "https://localhost:8080/"
    },
    "id": "ePP2JTfHZZ-S",
    "outputId": "397d6e62-4498-4f40-e45a-d5c241b51534"
   },
   "outputs": [
    {
     "name": "stdout",
     "output_type": "stream",
     "text": [
      "Collecting conllu\n",
      "  Downloading conllu-4.5.3-py2.py3-none-any.whl (16 kB)\n",
      "Installing collected packages: conllu\n",
      "Successfully installed conllu-4.5.3\n"
     ]
    }
   ],
   "source": [
    "!pip install conllu"
   ]
  },
  {
   "cell_type": "code",
   "execution_count": 33,
   "metadata": {
    "id": "_sdJAVqpZWNh"
   },
   "outputs": [],
   "source": [
    "from conllu import parse\n",
    "from sklearn.model_selection import train_test_split\n",
    "from sklearn.svm import SVC\n",
    "from sklearn.metrics import classification_report, accuracy_score\n",
    "from sklearn.preprocessing import LabelEncoder\n",
    "from sklearn.metrics import precision_recall_fscore_support"
   ]
  },
  {
   "cell_type": "code",
   "execution_count": 32,
   "metadata": {
    "id": "xZA3R2SyJIIa"
   },
   "outputs": [],
   "source": [
    "from sklearn.svm import LinearSVC\n",
    "from sklearn.preprocessing import StandardScaler\n",
    "from sklearn.pipeline import make_pipeline"
   ]
  },
  {
   "cell_type": "code",
   "execution_count": 26,
   "metadata": {
    "id": "AVvAu0kNZesU"
   },
   "outputs": [],
   "source": [
    "train_path = project_path + \"train.conllu\"\n",
    "with open(train_path, \"r\", encoding=\"utf-8\") as file:\n",
    "    data = file.read()\n",
    "# sentences = parse(data)"
   ]
  },
  {
   "cell_type": "code",
   "execution_count": 27,
   "metadata": {
    "id": "DSsTnypGZ-k0"
   },
   "outputs": [],
   "source": [
    "# for i in range(0, 5):\n",
    "#     print(sentences[i])\n",
    "# print(len(sentences))"
   ]
  },
  {
   "cell_type": "code",
   "execution_count": 8,
   "metadata": {
    "id": "x9Rcozglb7I6"
   },
   "outputs": [],
   "source": [
    "trainfile = project_path + \"train.csv\""
   ]
  },
  {
   "cell_type": "code",
   "execution_count": 74,
   "metadata": {
    "id": "uRwaHmFJ-W1R"
   },
   "outputs": [],
   "source": [
    "# df['postposition']\n",
    "# df['chunk']\n",
    "# df['dependency']\n",
    "# df['dependency-head']\n",
    "df = pd.read_csv(trainfile, sep=',')\n",
    "df.drop(columns=['dependency-head', 'chunk'], inplace=True)"
   ]
  },
  {
   "cell_type": "code",
   "execution_count": 90,
   "metadata": {
    "colab": {
     "base_uri": "https://localhost:8080/"
    },
    "id": "nycBctib_-E9",
    "outputId": "9e38ae72-7ca3-4c42-c05e-a486553443f2"
   },
   "outputs": [
    {
     "name": "stdout",
     "output_type": "stream",
     "text": [
      "14546\n",
      "{nan, 'ARG2-GOL', 'ARGM-CAU', 'ARGM-DIR', 'ARG2-LOC', 'ARGM-MOD', 'ARG2', 'ARGM-LOC', 'ARGM-MNR', 'ARGM-MNS', 'ARG0', 'ARGM-TMP', 'ARGM-DIS', 'ARGM-ADV', 'ARG1', 'ARG3', 'ARGM-PRP', 'ARGM-NEG', 'ARG2-ATR', 'ARG2-SOU', 'ARGM-EXT', 'ARG-UNDEF', 'ARGM-PRX'}\n",
      "Index(['word', 'postposition', 'dependency', 'is_arg', 'srl', 'predicate',\n",
      "       'head-POS'],\n",
      "      dtype='object')\n",
      "        word postposition dependency  is_arg       srl predicate head-POS\n",
      "0  उल्लेखनीय            0        k1s       1  ARG2-ATR     VGF.1      adj\n",
      "1         है           है       root       0       NaN       NaN        v\n",
      "2         कि            0         rs       0       NaN       NaN      avy\n",
      "3    अक्तूबर         0_को        k7t       1  ARGM-TMP      VGNF        n\n",
      "4      NULL2            0       root       0       NaN       NaN      NaN\n"
     ]
    }
   ],
   "source": [
    "# A = df['chunk'].tolist()\n",
    "B = df['dependency'].tolist()\n",
    "pos_tags = set(df['head-POS'].tolist())\n",
    "# print(pos_tags)\n",
    "print(len(df))\n",
    "srlabels = set(df['srl'].tolist())\n",
    "print(srlabels)\n",
    "# print(df)\n",
    "print(df.columns)\n",
    "print(df.head())"
   ]
  },
  {
   "cell_type": "code",
   "execution_count": 96,
   "metadata": {
    "colab": {
     "base_uri": "https://localhost:8080/"
    },
    "id": "laUjy0ZNDmwO",
    "outputId": "ebe2a47b-1685-4c80-c791-ab4b5299d317"
   },
   "outputs": [
    {
     "name": "stdout",
     "output_type": "stream",
     "text": [
      "        word  is_arg predicate postposition\n",
      "0  उल्लेखनीय       1     VGF.1            0\n",
      "1         है       0       NaN           है\n",
      "2         कि       0       NaN            0\n",
      "3    अक्तूबर       1      VGNF         0_को\n",
      "4      NULL2       0       NaN            0\n"
     ]
    }
   ],
   "source": [
    "inputs1 = df[['word','is_arg', 'predicate', 'postposition']]\n",
    "inputs2 = df[['word', 'postposition', 'is_arg', 'predicate', 'head-POS']]\n",
    "inputs3 = df[['word','dependency', 'postposition', 'is_arg', 'predicate', 'head-POS']]\n",
    "targets = df['srl']\n",
    "# print(df['word'].tolist())\n",
    "# print(set(df['dependency'].tolist()))\n",
    "print(inputs1.head())"
   ]
  },
  {
   "cell_type": "code",
   "execution_count": 97,
   "metadata": {
    "id": "5XW2iL94HWHl"
   },
   "outputs": [],
   "source": [
    "def preprocess(inputs, targets):\n",
    "    X = inputs.copy()\n",
    "    label_encoder = LabelEncoder()\n",
    "    label_encoders = {}\n",
    "\n",
    "    for col in X.columns:\n",
    "        if X[col].dtype == 'object':\n",
    "            label_encoders[col] = LabelEncoder()\n",
    "            X[col] = label_encoders[col].fit_transform(X[col])\n",
    "    Y = label_encoder.fit_transform(targets)\n",
    "    Xtrain, Xtest, Ytrain, Ytest = train_test_split(X, Y, test_size=0.1, random_state=42)\n",
    "    return Xtrain, Xtest, Ytrain, Ytest"
   ]
  },
  {
   "cell_type": "code",
   "execution_count": 98,
   "metadata": {
    "id": "zR5VlQYjGBqN"
   },
   "outputs": [],
   "source": [
    "Xtrain1, Xtest1, Ytrain1, Ytest1 = preprocess(inputs1, targets)\n",
    "Xtrain2, Xtest2, Ytrain2, Ytest2 = preprocess(inputs2, targets)\n",
    "Xtrain3, Xtest3, Ytrain3, Ytest3 = preprocess(inputs3, targets)"
   ]
  },
  {
   "cell_type": "code",
   "execution_count": 99,
   "metadata": {
    "id": "fRGSNvZzGLK6"
   },
   "outputs": [],
   "source": [
    "def train(Xtrain, Ytrain):\n",
    "    svm = make_pipeline(StandardScaler(), LinearSVC())\n",
    "    svm.fit(Xtrain, Ytrain)\n",
    "    return svm"
   ]
  },
  {
   "cell_type": "code",
   "execution_count": 100,
   "metadata": {
    "id": "jx7VWjvLGWwm"
   },
   "outputs": [],
   "source": [
    "model1 = train(Xtrain1, Ytrain1)\n",
    "model2 = train(Xtrain2, Ytrain2)\n",
    "model3 = train(Xtrain3, Ytrain3)"
   ]
  },
  {
   "cell_type": "code",
   "execution_count": 101,
   "metadata": {
    "id": "8DG44UyxNR-Q"
   },
   "outputs": [],
   "source": [
    "def getMetrics(model, Xtest, Ytest):\n",
    "    Ypred = model.predict(Xtest)\n",
    "    a = accuracy_score(Ytest, Ypred)\n",
    "    p, r, f1, _ = precision_recall_fscore_support(Ytest, Ypred, average='weighted')\n",
    "    return Ypred, a, p, r, f1"
   ]
  },
  {
   "cell_type": "code",
   "execution_count": 102,
   "metadata": {
    "colab": {
     "base_uri": "https://localhost:8080/"
    },
    "id": "MFPMK9iKY6ET",
    "outputId": "001babfc-ecc9-4a6d-b857-9a2ffaeedce9"
   },
   "outputs": [
    {
     "name": "stderr",
     "output_type": "stream",
     "text": [
      "/usr/local/lib/python3.10/dist-packages/sklearn/metrics/_classification.py:1344: UndefinedMetricWarning: Precision and F-score are ill-defined and being set to 0.0 in labels with no predicted samples. Use `zero_division` parameter to control this behavior.\n",
      "  _warn_prf(average, modifier, msg_start, len(result))\n",
      "/usr/local/lib/python3.10/dist-packages/sklearn/metrics/_classification.py:1344: UndefinedMetricWarning: Precision and F-score are ill-defined and being set to 0.0 in labels with no predicted samples. Use `zero_division` parameter to control this behavior.\n",
      "  _warn_prf(average, modifier, msg_start, len(result))\n",
      "/usr/local/lib/python3.10/dist-packages/sklearn/metrics/_classification.py:1344: UndefinedMetricWarning: Precision and F-score are ill-defined and being set to 0.0 in labels with no predicted samples. Use `zero_division` parameter to control this behavior.\n",
      "  _warn_prf(average, modifier, msg_start, len(result))\n"
     ]
    }
   ],
   "source": [
    "_, a1, p1, r1, f1 = getMetrics(model1, Xtest1, Ytest1)\n",
    "_, a2, p2, r2, f2 = getMetrics(model2, Xtest2, Ytest2)\n",
    "Ypred, a3, p3, r3, f3 = getMetrics(model3, Xtest3, Ytest3)"
   ]
  },
  {
   "cell_type": "code",
   "execution_count": 103,
   "metadata": {
    "colab": {
     "base_uri": "https://localhost:8080/"
    },
    "id": "C1KlqAwTs7D9",
    "outputId": "eb249daa-86da-429d-b361-8eb5cd19923b"
   },
   "outputs": [
    {
     "name": "stdout",
     "output_type": "stream",
     "text": [
      "\n",
      "Accuracy: 76.941581 %\n",
      "\n",
      "Precision: 69.274082 \n",
      "\n",
      "Recall: 76.941581 \n",
      "\n",
      "F1 score: 71.948644 \n"
     ]
    }
   ],
   "source": [
    "print(f\"\\nAccuracy: {a1 * 100.:4f} %\")\n",
    "print(f\"\\nPrecision: {p1 * 100.:4f} \")\n",
    "print(f\"\\nRecall: {r1 * 100.:4f} \")\n",
    "print(f\"\\nF1 score: {f1 * 100.:4f} \")"
   ]
  },
  {
   "cell_type": "code",
   "execution_count": 104,
   "metadata": {
    "colab": {
     "base_uri": "https://localhost:8080/"
    },
    "id": "umY3r2vXtgXI",
    "outputId": "eb66a621-12b5-4e56-c171-87364ceee01d"
   },
   "outputs": [
    {
     "name": "stdout",
     "output_type": "stream",
     "text": [
      "\n",
      "Accuracy: 77.216495 %\n",
      "\n",
      "Precision: 73.405534 \n",
      "\n",
      "Recall: 77.216495 \n",
      "\n",
      "F1 score: 72.749862 \n"
     ]
    }
   ],
   "source": [
    "print(f\"\\nAccuracy: {a2 * 100.:4f} %\")\n",
    "print(f\"\\nPrecision: {p2 * 100.:4f} \")\n",
    "print(f\"\\nRecall: {r2 * 100.:4f} \")\n",
    "print(f\"\\nF1 score: {f2 * 100.:4f} \")"
   ]
  },
  {
   "cell_type": "code",
   "execution_count": 105,
   "metadata": {
    "colab": {
     "base_uri": "https://localhost:8080/"
    },
    "id": "WsYxdicWtj9w",
    "outputId": "94fe580c-bbd9-4d16-89b1-06e56cf491c0"
   },
   "outputs": [
    {
     "name": "stdout",
     "output_type": "stream",
     "text": [
      "\n",
      "Accuracy: 81.271478 %\n",
      "\n",
      "Precision: 77.528466 \n",
      "\n",
      "Recall: 81.271478 \n",
      "\n",
      "F1 score: 78.004772 \n"
     ]
    }
   ],
   "source": [
    "print(f\"\\nAccuracy: {a3 * 100.:4f} %\")\n",
    "print(f\"\\nPrecision: {p3 * 100.:4f} \")\n",
    "print(f\"\\nRecall: {r3 * 100.:4f} \")\n",
    "print(f\"\\nF1 score: {f3 * 100.:4f} \")"
   ]
  },
  {
   "cell_type": "code",
   "execution_count": 61,
   "metadata": {
    "colab": {
     "base_uri": "https://localhost:8080/"
    },
    "id": "1OtFd4aTR--s",
    "outputId": "b9888281-b964-4087-bcfd-151d6c68e6ba"
   },
   "outputs": [
    {
     "name": "stdout",
     "output_type": "stream",
     "text": [
      "['ग्रह' 'पार्टी' 'कदम' 'नियमों' 'भारत' 'गोले' 'उन्होंने' 'डांस' 'भूमिका'\n",
      " 'करने']\n",
      "[nan 'ARG1' nan 'ARG1' nan 'ARG1' 'ARG1' 'ARG1' nan 'ARGM-MNR']\n"
     ]
    }
   ],
   "source": [
    "# predicted_labels = label_encoder.inverse_transform(Ypred)\n",
    "# print(Xtest.columns)\n",
    "# actual_words = label_encoders['word'].inverse_transform(Xtest['word'])\n",
    "# print(actual_words[100:110])\n",
    "# print(predicted_labels[100:110])"
   ]
  }
 ],
 "metadata": {
  "colab": {
   "provenance": []
  },
  "kernelspec": {
   "display_name": "Python 3 (ipykernel)",
   "language": "python",
   "name": "python3"
  },
  "language_info": {
   "codemirror_mode": {
    "name": "ipython",
    "version": 3
   },
   "file_extension": ".py",
   "mimetype": "text/x-python",
   "name": "python",
   "nbconvert_exporter": "python",
   "pygments_lexer": "ipython3",
   "version": "3.11.6"
  }
 },
 "nbformat": 4,
 "nbformat_minor": 1
}
